{
 "cells": [
  {
   "cell_type": "code",
   "execution_count": null,
   "metadata": {},
   "outputs": [],
   "source": [
    "### Grab Bot\n",
    "import os"
   ]
  },
  {
   "cell_type": "code",
   "execution_count": null,
   "metadata": {},
   "outputs": [],
   "source": [
    "# DEMO SEQUENCE\n",
    "# 1) Pick some BASE Community\n",
    "# 2) Show bot interacting with some sticker that shows education material & engagement material with "
   ]
  },
  {
   "cell_type": "code",
   "execution_count": null,
   "metadata": {},
   "outputs": [],
   "source": [
    "def grab_next_hour_price_prediction(token_address, chain):\n",
    "    if chain == \"ETH\":\n",
    "        pond_api=os.getenv(\"POND_API_ETH\")\n",
    "    elif chain == \"BASE\":\n",
    "        pond_api=os.getenv(\"POND_API_BASE\")\n",
    "    else:\n",
    "        raise ValueError(\"Not Yet Supported\")\n",
    "    \n",
    "    latest_prediction = requests.get(pond_api+\"predict/{}\".format(token_address)).json()[0]\n",
    "    return latest_prediction[\"prediction\"]"
   ]
  }
 ],
 "metadata": {
  "language_info": {
   "name": "python"
  }
 },
 "nbformat": 4,
 "nbformat_minor": 2
}
